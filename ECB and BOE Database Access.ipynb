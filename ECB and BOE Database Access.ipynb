{
 "cells": [
  {
   "cell_type": "markdown",
   "metadata": {},
   "source": [
    "# Some Basic Code to Get You Started\n",
    "\n",
    "## You can access the entire ECB economic statistics database, as well as country-level central banks.  Please see below."
   ]
  },
  {
   "cell_type": "code",
   "execution_count": 1,
   "metadata": {},
   "outputs": [],
   "source": [
    "import requests\n",
    "import pandas as pd\n",
    "import io\n",
    "import matplotlib as plt"
   ]
  },
  {
   "cell_type": "code",
   "execution_count": 2,
   "metadata": {},
   "outputs": [],
   "source": [
    "# Building blocks for the URL\n",
    "\n",
    "entrypoint = 'https://sdw-wsrest.ecb.europa.eu/service/' # Using protocol 'https'\n",
    "resource = 'data'           # The resource for data queries is always'data'\n",
    "flowRef ='EXR'              # Dataflow describing the data that needs to be returned, exchange rates in this case\n",
    "key = 'D.CHF.EUR.SP00.A'    # Defining the dimension values, explained below\n",
    "\n",
    "# Define the parameters\n",
    "parameters = {\n",
    "    'startPeriod': '2000-01-01',  # Start date of the time series\n",
    "#    'endPeriod': '2019-01-01'     # End of the time series\n",
    "}"
   ]
  },
  {
   "cell_type": "markdown",
   "metadata": {},
   "source": [
    "Key (dimensions) explained:\n",
    "\n",
    "* the frequency of the measurement: D for daily\n",
    "* the currency being measured: CHF for Swiss Francs\n",
    "* the currency against which a currency is being measured: EUR for Euros\n",
    "* the type of exchange rates: foreign exchange reference rates have code SP00\n",
    "* the series variation (such as average or standardised measure for given frequency): code A\n",
    "For this example we only use two parameters, startPerdiod and endPeriod, but you can add more if you like.  Now we have to put all this together to construct the URL:"
   ]
  },
  {
   "cell_type": "code",
   "execution_count": 3,
   "metadata": {},
   "outputs": [
    {
     "name": "stdout",
     "output_type": "stream",
     "text": [
      "<Response [200]>\n",
      "https://sdw-wsrest.ecb.europa.eu/service/data/EXR/D.CHF.EUR.SP00.A?startPeriod=2000-01-01\n"
     ]
    }
   ],
   "source": [
    "# Construct the URL: https://sdw-wsrest.ecb.europa.eu/service/data/EXR/D.CHF.EUR.SP00.A\n",
    "# Make the HTTP request\n",
    "# Check if the response returns succesfully with response code 200\n",
    "\n",
    "request_url = entrypoint + resource + '/'+ flowRef + '/' + key\n",
    "\n",
    "response = requests.get(request_url, params=parameters)\n",
    "print(response)\n",
    "print(response.url)"
   ]
  },
  {
   "cell_type": "code",
   "execution_count": 4,
   "metadata": {},
   "outputs": [
    {
     "name": "stdout",
     "output_type": "stream",
     "text": [
      "<?xml version=\"1.0\" encoding=\"UTF-8\"?><message:GenericData xmlns:message=\"http://www.sdmx.org/resources/sdmxml/schemas/v2_1/message\" xmlns:common=\"http://www.sdmx.org/resources/sdmxml/schemas/v2_1/common\" xmlns:xsi=\"http://www.w3.org/2001/XMLSchema-instance\" xmlns:generic=\"http://www.sdmx.org/resources/sdmxml/schemas/v2_1/data/generic\" xsi:schemaLocation=\"http://www.sdmx.org/resources/sdmxml/schemas/v2_1/message https://sdw-wsrest.ecb.europa.eu:443/vocabulary/sdmx/2_1/SDMXMessage.xsd http://www.sdmx.org/resources/sdmxml/schemas/v2_1/common https://sdw-wsrest.ecb.europa.eu:443/vocabulary/sdmx/2_1/SDMXCommon.xsd http://www.sdmx.org/resources/sdmxml/schemas/v2_1/data/generic https://sdw-wsrest.ecb.europa.eu:443/vocabulary/sdmx/2_1/SDMXDataGeneric.xsd\">\n",
      "<message:Header>\n",
      "<message:ID>4253dd84-4900-49cd-938f-6bfe82d70e9e</message:ID>\n",
      "<message:Test>false</message:Test>\n",
      "<message:Prepared>2019-07-29T18:00:52.283+02:00</message:Prepared>\n",
      "<message:Sender id=\"ECB\"/>\n",
      "<message:Structure structureID=\"\n"
     ]
    }
   ],
   "source": [
    "# Print the first 1000 characters of the response\n",
    "\n",
    "print(response.text[0:1000])"
   ]
  },
  {
   "cell_type": "code",
   "execution_count": 5,
   "metadata": {},
   "outputs": [
    {
     "name": "stdout",
     "output_type": "stream",
     "text": [
      "<Response [200]>\n"
     ]
    }
   ],
   "source": [
    "# Make the HTTP request again, now requesting for CSV format\n",
    "\n",
    "response = requests.get(request_url, params=parameters, headers={'Accept': 'text/csv'})\n",
    "print(response)"
   ]
  },
  {
   "cell_type": "code",
   "execution_count": 6,
   "metadata": {},
   "outputs": [],
   "source": [
    "# Read the response as a file into a Pandas DataFrame\n",
    "\n",
    "df = pd.read_csv(io.StringIO(response.text))"
   ]
  },
  {
   "cell_type": "code",
   "execution_count": 7,
   "metadata": {},
   "outputs": [
    {
     "name": "stdout",
     "output_type": "stream",
     "text": [
      "<class 'pandas.core.frame.DataFrame'>\n",
      "RangeIndex: 5068 entries, 0 to 5067\n",
      "Data columns (total 32 columns):\n",
      "KEY                5068 non-null object\n",
      "FREQ               5068 non-null object\n",
      "CURRENCY           5068 non-null object\n",
      "CURRENCY_DENOM     5068 non-null object\n",
      "EXR_TYPE           5068 non-null object\n",
      "EXR_SUFFIX         5068 non-null object\n",
      "TIME_PERIOD        5068 non-null object\n",
      "OBS_VALUE          5007 non-null float64\n",
      "OBS_STATUS         5068 non-null object\n",
      "OBS_CONF           447 non-null object\n",
      "OBS_PRE_BREAK      0 non-null float64\n",
      "OBS_COM            0 non-null float64\n",
      "TIME_FORMAT        5068 non-null object\n",
      "BREAKS             0 non-null float64\n",
      "COLLECTION         5068 non-null object\n",
      "COMPILING_ORG      0 non-null float64\n",
      "DISS_ORG           0 non-null float64\n",
      "DOM_SER_IDS        0 non-null float64\n",
      "PUBL_ECB           0 non-null float64\n",
      "PUBL_MU            0 non-null float64\n",
      "PUBL_PUBLIC        0 non-null float64\n",
      "UNIT_INDEX_BASE    0 non-null float64\n",
      "COMPILATION        0 non-null float64\n",
      "COVERAGE           0 non-null float64\n",
      "DECIMALS           5068 non-null int64\n",
      "NAT_TITLE          0 non-null float64\n",
      "SOURCE_AGENCY      5068 non-null object\n",
      "SOURCE_PUB         0 non-null float64\n",
      "TITLE              5068 non-null object\n",
      "TITLE_COMPL        5068 non-null object\n",
      "UNIT               5068 non-null object\n",
      "UNIT_MULT          5068 non-null int64\n",
      "dtypes: float64(15), int64(2), object(15)\n",
      "memory usage: 1.2+ MB\n"
     ]
    }
   ],
   "source": [
    "# Check the DataFrame's information\n",
    "\n",
    "df.info()"
   ]
  },
  {
   "cell_type": "code",
   "execution_count": 8,
   "metadata": {},
   "outputs": [
    {
     "data": {
      "text/html": [
       "<div>\n",
       "<style scoped>\n",
       "    .dataframe tbody tr th:only-of-type {\n",
       "        vertical-align: middle;\n",
       "    }\n",
       "\n",
       "    .dataframe tbody tr th {\n",
       "        vertical-align: top;\n",
       "    }\n",
       "\n",
       "    .dataframe thead th {\n",
       "        text-align: right;\n",
       "    }\n",
       "</style>\n",
       "<table border=\"1\" class=\"dataframe\">\n",
       "  <thead>\n",
       "    <tr style=\"text-align: right;\">\n",
       "      <th></th>\n",
       "      <th>KEY</th>\n",
       "      <th>FREQ</th>\n",
       "      <th>CURRENCY</th>\n",
       "      <th>CURRENCY_DENOM</th>\n",
       "      <th>EXR_TYPE</th>\n",
       "      <th>EXR_SUFFIX</th>\n",
       "      <th>TIME_PERIOD</th>\n",
       "      <th>OBS_VALUE</th>\n",
       "      <th>OBS_STATUS</th>\n",
       "      <th>OBS_CONF</th>\n",
       "      <th>...</th>\n",
       "      <th>COMPILATION</th>\n",
       "      <th>COVERAGE</th>\n",
       "      <th>DECIMALS</th>\n",
       "      <th>NAT_TITLE</th>\n",
       "      <th>SOURCE_AGENCY</th>\n",
       "      <th>SOURCE_PUB</th>\n",
       "      <th>TITLE</th>\n",
       "      <th>TITLE_COMPL</th>\n",
       "      <th>UNIT</th>\n",
       "      <th>UNIT_MULT</th>\n",
       "    </tr>\n",
       "  </thead>\n",
       "  <tbody>\n",
       "    <tr>\n",
       "      <th>0</th>\n",
       "      <td>EXR.D.CHF.EUR.SP00.A</td>\n",
       "      <td>D</td>\n",
       "      <td>CHF</td>\n",
       "      <td>EUR</td>\n",
       "      <td>SP00</td>\n",
       "      <td>A</td>\n",
       "      <td>2000-01-03</td>\n",
       "      <td>1.6043</td>\n",
       "      <td>A</td>\n",
       "      <td>NaN</td>\n",
       "      <td>...</td>\n",
       "      <td>NaN</td>\n",
       "      <td>NaN</td>\n",
       "      <td>4</td>\n",
       "      <td>NaN</td>\n",
       "      <td>4F0</td>\n",
       "      <td>NaN</td>\n",
       "      <td>Swiss franc/Euro</td>\n",
       "      <td>ECB reference exchange rate, Swiss franc/Euro,...</td>\n",
       "      <td>CHF</td>\n",
       "      <td>0</td>\n",
       "    </tr>\n",
       "    <tr>\n",
       "      <th>1</th>\n",
       "      <td>EXR.D.CHF.EUR.SP00.A</td>\n",
       "      <td>D</td>\n",
       "      <td>CHF</td>\n",
       "      <td>EUR</td>\n",
       "      <td>SP00</td>\n",
       "      <td>A</td>\n",
       "      <td>2000-01-04</td>\n",
       "      <td>1.6053</td>\n",
       "      <td>A</td>\n",
       "      <td>NaN</td>\n",
       "      <td>...</td>\n",
       "      <td>NaN</td>\n",
       "      <td>NaN</td>\n",
       "      <td>4</td>\n",
       "      <td>NaN</td>\n",
       "      <td>4F0</td>\n",
       "      <td>NaN</td>\n",
       "      <td>Swiss franc/Euro</td>\n",
       "      <td>ECB reference exchange rate, Swiss franc/Euro,...</td>\n",
       "      <td>CHF</td>\n",
       "      <td>0</td>\n",
       "    </tr>\n",
       "    <tr>\n",
       "      <th>2</th>\n",
       "      <td>EXR.D.CHF.EUR.SP00.A</td>\n",
       "      <td>D</td>\n",
       "      <td>CHF</td>\n",
       "      <td>EUR</td>\n",
       "      <td>SP00</td>\n",
       "      <td>A</td>\n",
       "      <td>2000-01-05</td>\n",
       "      <td>1.6060</td>\n",
       "      <td>A</td>\n",
       "      <td>NaN</td>\n",
       "      <td>...</td>\n",
       "      <td>NaN</td>\n",
       "      <td>NaN</td>\n",
       "      <td>4</td>\n",
       "      <td>NaN</td>\n",
       "      <td>4F0</td>\n",
       "      <td>NaN</td>\n",
       "      <td>Swiss franc/Euro</td>\n",
       "      <td>ECB reference exchange rate, Swiss franc/Euro,...</td>\n",
       "      <td>CHF</td>\n",
       "      <td>0</td>\n",
       "    </tr>\n",
       "    <tr>\n",
       "      <th>3</th>\n",
       "      <td>EXR.D.CHF.EUR.SP00.A</td>\n",
       "      <td>D</td>\n",
       "      <td>CHF</td>\n",
       "      <td>EUR</td>\n",
       "      <td>SP00</td>\n",
       "      <td>A</td>\n",
       "      <td>2000-01-06</td>\n",
       "      <td>1.6068</td>\n",
       "      <td>A</td>\n",
       "      <td>NaN</td>\n",
       "      <td>...</td>\n",
       "      <td>NaN</td>\n",
       "      <td>NaN</td>\n",
       "      <td>4</td>\n",
       "      <td>NaN</td>\n",
       "      <td>4F0</td>\n",
       "      <td>NaN</td>\n",
       "      <td>Swiss franc/Euro</td>\n",
       "      <td>ECB reference exchange rate, Swiss franc/Euro,...</td>\n",
       "      <td>CHF</td>\n",
       "      <td>0</td>\n",
       "    </tr>\n",
       "    <tr>\n",
       "      <th>4</th>\n",
       "      <td>EXR.D.CHF.EUR.SP00.A</td>\n",
       "      <td>D</td>\n",
       "      <td>CHF</td>\n",
       "      <td>EUR</td>\n",
       "      <td>SP00</td>\n",
       "      <td>A</td>\n",
       "      <td>2000-01-07</td>\n",
       "      <td>1.6079</td>\n",
       "      <td>A</td>\n",
       "      <td>NaN</td>\n",
       "      <td>...</td>\n",
       "      <td>NaN</td>\n",
       "      <td>NaN</td>\n",
       "      <td>4</td>\n",
       "      <td>NaN</td>\n",
       "      <td>4F0</td>\n",
       "      <td>NaN</td>\n",
       "      <td>Swiss franc/Euro</td>\n",
       "      <td>ECB reference exchange rate, Swiss franc/Euro,...</td>\n",
       "      <td>CHF</td>\n",
       "      <td>0</td>\n",
       "    </tr>\n",
       "  </tbody>\n",
       "</table>\n",
       "<p>5 rows × 32 columns</p>\n",
       "</div>"
      ],
      "text/plain": [
       "                    KEY FREQ CURRENCY CURRENCY_DENOM EXR_TYPE EXR_SUFFIX  \\\n",
       "0  EXR.D.CHF.EUR.SP00.A    D      CHF            EUR     SP00          A   \n",
       "1  EXR.D.CHF.EUR.SP00.A    D      CHF            EUR     SP00          A   \n",
       "2  EXR.D.CHF.EUR.SP00.A    D      CHF            EUR     SP00          A   \n",
       "3  EXR.D.CHF.EUR.SP00.A    D      CHF            EUR     SP00          A   \n",
       "4  EXR.D.CHF.EUR.SP00.A    D      CHF            EUR     SP00          A   \n",
       "\n",
       "  TIME_PERIOD  OBS_VALUE OBS_STATUS OBS_CONF  ...  COMPILATION  COVERAGE  \\\n",
       "0  2000-01-03     1.6043          A      NaN  ...          NaN       NaN   \n",
       "1  2000-01-04     1.6053          A      NaN  ...          NaN       NaN   \n",
       "2  2000-01-05     1.6060          A      NaN  ...          NaN       NaN   \n",
       "3  2000-01-06     1.6068          A      NaN  ...          NaN       NaN   \n",
       "4  2000-01-07     1.6079          A      NaN  ...          NaN       NaN   \n",
       "\n",
       "  DECIMALS  NAT_TITLE SOURCE_AGENCY  SOURCE_PUB             TITLE  \\\n",
       "0        4        NaN           4F0         NaN  Swiss franc/Euro   \n",
       "1        4        NaN           4F0         NaN  Swiss franc/Euro   \n",
       "2        4        NaN           4F0         NaN  Swiss franc/Euro   \n",
       "3        4        NaN           4F0         NaN  Swiss franc/Euro   \n",
       "4        4        NaN           4F0         NaN  Swiss franc/Euro   \n",
       "\n",
       "                                         TITLE_COMPL  UNIT  UNIT_MULT  \n",
       "0  ECB reference exchange rate, Swiss franc/Euro,...   CHF          0  \n",
       "1  ECB reference exchange rate, Swiss franc/Euro,...   CHF          0  \n",
       "2  ECB reference exchange rate, Swiss franc/Euro,...   CHF          0  \n",
       "3  ECB reference exchange rate, Swiss franc/Euro,...   CHF          0  \n",
       "4  ECB reference exchange rate, Swiss franc/Euro,...   CHF          0  \n",
       "\n",
       "[5 rows x 32 columns]"
      ]
     },
     "execution_count": 8,
     "metadata": {},
     "output_type": "execute_result"
    }
   ],
   "source": [
    "df.head()"
   ]
  },
  {
   "cell_type": "code",
   "execution_count": 9,
   "metadata": {},
   "outputs": [
    {
     "data": {
      "text/html": [
       "<div>\n",
       "<style scoped>\n",
       "    .dataframe tbody tr th:only-of-type {\n",
       "        vertical-align: middle;\n",
       "    }\n",
       "\n",
       "    .dataframe tbody tr th {\n",
       "        vertical-align: top;\n",
       "    }\n",
       "\n",
       "    .dataframe thead th {\n",
       "        text-align: right;\n",
       "    }\n",
       "</style>\n",
       "<table border=\"1\" class=\"dataframe\">\n",
       "  <thead>\n",
       "    <tr style=\"text-align: right;\">\n",
       "      <th></th>\n",
       "      <th>OBS_VALUE</th>\n",
       "      <th>OBS_PRE_BREAK</th>\n",
       "      <th>OBS_COM</th>\n",
       "      <th>BREAKS</th>\n",
       "      <th>COMPILING_ORG</th>\n",
       "      <th>DISS_ORG</th>\n",
       "      <th>DOM_SER_IDS</th>\n",
       "      <th>PUBL_ECB</th>\n",
       "      <th>PUBL_MU</th>\n",
       "      <th>PUBL_PUBLIC</th>\n",
       "      <th>UNIT_INDEX_BASE</th>\n",
       "      <th>COMPILATION</th>\n",
       "      <th>COVERAGE</th>\n",
       "      <th>DECIMALS</th>\n",
       "      <th>NAT_TITLE</th>\n",
       "      <th>SOURCE_PUB</th>\n",
       "      <th>UNIT_MULT</th>\n",
       "    </tr>\n",
       "  </thead>\n",
       "  <tbody>\n",
       "    <tr>\n",
       "      <th>count</th>\n",
       "      <td>5007.000000</td>\n",
       "      <td>0.0</td>\n",
       "      <td>0.0</td>\n",
       "      <td>0.0</td>\n",
       "      <td>0.0</td>\n",
       "      <td>0.0</td>\n",
       "      <td>0.0</td>\n",
       "      <td>0.0</td>\n",
       "      <td>0.0</td>\n",
       "      <td>0.0</td>\n",
       "      <td>0.0</td>\n",
       "      <td>0.0</td>\n",
       "      <td>0.0</td>\n",
       "      <td>5068.0</td>\n",
       "      <td>0.0</td>\n",
       "      <td>0.0</td>\n",
       "      <td>5068.0</td>\n",
       "    </tr>\n",
       "    <tr>\n",
       "      <th>mean</th>\n",
       "      <td>1.369020</td>\n",
       "      <td>NaN</td>\n",
       "      <td>NaN</td>\n",
       "      <td>NaN</td>\n",
       "      <td>NaN</td>\n",
       "      <td>NaN</td>\n",
       "      <td>NaN</td>\n",
       "      <td>NaN</td>\n",
       "      <td>NaN</td>\n",
       "      <td>NaN</td>\n",
       "      <td>NaN</td>\n",
       "      <td>NaN</td>\n",
       "      <td>NaN</td>\n",
       "      <td>4.0</td>\n",
       "      <td>NaN</td>\n",
       "      <td>NaN</td>\n",
       "      <td>0.0</td>\n",
       "    </tr>\n",
       "    <tr>\n",
       "      <th>std</th>\n",
       "      <td>0.196338</td>\n",
       "      <td>NaN</td>\n",
       "      <td>NaN</td>\n",
       "      <td>NaN</td>\n",
       "      <td>NaN</td>\n",
       "      <td>NaN</td>\n",
       "      <td>NaN</td>\n",
       "      <td>NaN</td>\n",
       "      <td>NaN</td>\n",
       "      <td>NaN</td>\n",
       "      <td>NaN</td>\n",
       "      <td>NaN</td>\n",
       "      <td>NaN</td>\n",
       "      <td>0.0</td>\n",
       "      <td>NaN</td>\n",
       "      <td>NaN</td>\n",
       "      <td>0.0</td>\n",
       "    </tr>\n",
       "    <tr>\n",
       "      <th>min</th>\n",
       "      <td>0.981600</td>\n",
       "      <td>NaN</td>\n",
       "      <td>NaN</td>\n",
       "      <td>NaN</td>\n",
       "      <td>NaN</td>\n",
       "      <td>NaN</td>\n",
       "      <td>NaN</td>\n",
       "      <td>NaN</td>\n",
       "      <td>NaN</td>\n",
       "      <td>NaN</td>\n",
       "      <td>NaN</td>\n",
       "      <td>NaN</td>\n",
       "      <td>NaN</td>\n",
       "      <td>4.0</td>\n",
       "      <td>NaN</td>\n",
       "      <td>NaN</td>\n",
       "      <td>0.0</td>\n",
       "    </tr>\n",
       "    <tr>\n",
       "      <th>25%</th>\n",
       "      <td>1.201000</td>\n",
       "      <td>NaN</td>\n",
       "      <td>NaN</td>\n",
       "      <td>NaN</td>\n",
       "      <td>NaN</td>\n",
       "      <td>NaN</td>\n",
       "      <td>NaN</td>\n",
       "      <td>NaN</td>\n",
       "      <td>NaN</td>\n",
       "      <td>NaN</td>\n",
       "      <td>NaN</td>\n",
       "      <td>NaN</td>\n",
       "      <td>NaN</td>\n",
       "      <td>4.0</td>\n",
       "      <td>NaN</td>\n",
       "      <td>NaN</td>\n",
       "      <td>0.0</td>\n",
       "    </tr>\n",
       "    <tr>\n",
       "      <th>50%</th>\n",
       "      <td>1.462800</td>\n",
       "      <td>NaN</td>\n",
       "      <td>NaN</td>\n",
       "      <td>NaN</td>\n",
       "      <td>NaN</td>\n",
       "      <td>NaN</td>\n",
       "      <td>NaN</td>\n",
       "      <td>NaN</td>\n",
       "      <td>NaN</td>\n",
       "      <td>NaN</td>\n",
       "      <td>NaN</td>\n",
       "      <td>NaN</td>\n",
       "      <td>NaN</td>\n",
       "      <td>4.0</td>\n",
       "      <td>NaN</td>\n",
       "      <td>NaN</td>\n",
       "      <td>0.0</td>\n",
       "    </tr>\n",
       "    <tr>\n",
       "      <th>75%</th>\n",
       "      <td>1.545950</td>\n",
       "      <td>NaN</td>\n",
       "      <td>NaN</td>\n",
       "      <td>NaN</td>\n",
       "      <td>NaN</td>\n",
       "      <td>NaN</td>\n",
       "      <td>NaN</td>\n",
       "      <td>NaN</td>\n",
       "      <td>NaN</td>\n",
       "      <td>NaN</td>\n",
       "      <td>NaN</td>\n",
       "      <td>NaN</td>\n",
       "      <td>NaN</td>\n",
       "      <td>4.0</td>\n",
       "      <td>NaN</td>\n",
       "      <td>NaN</td>\n",
       "      <td>0.0</td>\n",
       "    </tr>\n",
       "    <tr>\n",
       "      <th>max</th>\n",
       "      <td>1.680300</td>\n",
       "      <td>NaN</td>\n",
       "      <td>NaN</td>\n",
       "      <td>NaN</td>\n",
       "      <td>NaN</td>\n",
       "      <td>NaN</td>\n",
       "      <td>NaN</td>\n",
       "      <td>NaN</td>\n",
       "      <td>NaN</td>\n",
       "      <td>NaN</td>\n",
       "      <td>NaN</td>\n",
       "      <td>NaN</td>\n",
       "      <td>NaN</td>\n",
       "      <td>4.0</td>\n",
       "      <td>NaN</td>\n",
       "      <td>NaN</td>\n",
       "      <td>0.0</td>\n",
       "    </tr>\n",
       "  </tbody>\n",
       "</table>\n",
       "</div>"
      ],
      "text/plain": [
       "         OBS_VALUE  OBS_PRE_BREAK  OBS_COM  BREAKS  COMPILING_ORG  DISS_ORG  \\\n",
       "count  5007.000000            0.0      0.0     0.0            0.0       0.0   \n",
       "mean      1.369020            NaN      NaN     NaN            NaN       NaN   \n",
       "std       0.196338            NaN      NaN     NaN            NaN       NaN   \n",
       "min       0.981600            NaN      NaN     NaN            NaN       NaN   \n",
       "25%       1.201000            NaN      NaN     NaN            NaN       NaN   \n",
       "50%       1.462800            NaN      NaN     NaN            NaN       NaN   \n",
       "75%       1.545950            NaN      NaN     NaN            NaN       NaN   \n",
       "max       1.680300            NaN      NaN     NaN            NaN       NaN   \n",
       "\n",
       "       DOM_SER_IDS  PUBL_ECB  PUBL_MU  PUBL_PUBLIC  UNIT_INDEX_BASE  \\\n",
       "count          0.0       0.0      0.0          0.0              0.0   \n",
       "mean           NaN       NaN      NaN          NaN              NaN   \n",
       "std            NaN       NaN      NaN          NaN              NaN   \n",
       "min            NaN       NaN      NaN          NaN              NaN   \n",
       "25%            NaN       NaN      NaN          NaN              NaN   \n",
       "50%            NaN       NaN      NaN          NaN              NaN   \n",
       "75%            NaN       NaN      NaN          NaN              NaN   \n",
       "max            NaN       NaN      NaN          NaN              NaN   \n",
       "\n",
       "       COMPILATION  COVERAGE  DECIMALS  NAT_TITLE  SOURCE_PUB  UNIT_MULT  \n",
       "count          0.0       0.0    5068.0        0.0         0.0     5068.0  \n",
       "mean           NaN       NaN       4.0        NaN         NaN        0.0  \n",
       "std            NaN       NaN       0.0        NaN         NaN        0.0  \n",
       "min            NaN       NaN       4.0        NaN         NaN        0.0  \n",
       "25%            NaN       NaN       4.0        NaN         NaN        0.0  \n",
       "50%            NaN       NaN       4.0        NaN         NaN        0.0  \n",
       "75%            NaN       NaN       4.0        NaN         NaN        0.0  \n",
       "max            NaN       NaN       4.0        NaN         NaN        0.0  "
      ]
     },
     "execution_count": 9,
     "metadata": {},
     "output_type": "execute_result"
    }
   ],
   "source": [
    "df.describe()"
   ]
  },
  {
   "cell_type": "code",
   "execution_count": 10,
   "metadata": {},
   "outputs": [
    {
     "data": {
      "text/html": [
       "<div>\n",
       "<style scoped>\n",
       "    .dataframe tbody tr th:only-of-type {\n",
       "        vertical-align: middle;\n",
       "    }\n",
       "\n",
       "    .dataframe tbody tr th {\n",
       "        vertical-align: top;\n",
       "    }\n",
       "\n",
       "    .dataframe thead th {\n",
       "        text-align: right;\n",
       "    }\n",
       "</style>\n",
       "<table border=\"1\" class=\"dataframe\">\n",
       "  <thead>\n",
       "    <tr style=\"text-align: right;\">\n",
       "      <th></th>\n",
       "      <th>OBS_VALUE</th>\n",
       "    </tr>\n",
       "    <tr>\n",
       "      <th>TIME_PERIOD</th>\n",
       "      <th></th>\n",
       "    </tr>\n",
       "  </thead>\n",
       "  <tbody>\n",
       "    <tr>\n",
       "      <th>2019-07-23</th>\n",
       "      <td>1.0985</td>\n",
       "    </tr>\n",
       "    <tr>\n",
       "      <th>2019-07-24</th>\n",
       "      <td>1.0982</td>\n",
       "    </tr>\n",
       "    <tr>\n",
       "      <th>2019-07-25</th>\n",
       "      <td>1.0989</td>\n",
       "    </tr>\n",
       "    <tr>\n",
       "      <th>2019-07-26</th>\n",
       "      <td>1.1053</td>\n",
       "    </tr>\n",
       "    <tr>\n",
       "      <th>2019-07-29</th>\n",
       "      <td>1.1037</td>\n",
       "    </tr>\n",
       "  </tbody>\n",
       "</table>\n",
       "</div>"
      ],
      "text/plain": [
       "             OBS_VALUE\n",
       "TIME_PERIOD           \n",
       "2019-07-23      1.0985\n",
       "2019-07-24      1.0982\n",
       "2019-07-25      1.0989\n",
       "2019-07-26      1.1053\n",
       "2019-07-29      1.1037"
      ]
     },
     "execution_count": 10,
     "metadata": {},
     "output_type": "execute_result"
    }
   ],
   "source": [
    "# Create a new DataFrame called 'ts'\n",
    "\n",
    "ts = df.filter(['TIME_PERIOD', 'OBS_VALUE'], axis=1)\n",
    "ts['TIME_PERIOD'] = pd.to_datetime(ts['TIME_PERIOD'])\n",
    "ts = ts.set_index('TIME_PERIOD')\n",
    "ts.tail()"
   ]
  },
  {
   "cell_type": "code",
   "execution_count": 11,
   "metadata": {},
   "outputs": [
    {
     "data": {
      "text/plain": [
       "<matplotlib.axes._subplots.AxesSubplot at 0x197205486a0>"
      ]
     },
     "execution_count": 11,
     "metadata": {},
     "output_type": "execute_result"
    },
    {
     "data": {
      "image/png": "[encoded data removed]",
      "text/plain": [
       "<Figure size 576x432 with 1 Axes>"
      ]
     },
     "metadata": {
      "needs_background": "light"
     },
     "output_type": "display_data"
    }
   ],
   "source": [
    "# A simple plot\n",
    "\n",
    "%matplotlib inline\n",
    "ts.plot(figsize=(8, 6), legend=False, grid=True)"
   ]
  },
  {
   "cell_type": "code",
   "execution_count": 12,
   "metadata": {},
   "outputs": [],
   "source": [
    "from pandasdmx import Request\n",
    "ecb = Request('ECB')"
   ]
  },
  {
   "cell_type": "code",
   "execution_count": 13,
   "metadata": {},
   "outputs": [],
   "source": [
    "# Retrieve the data (we start at 2016, because are requesting a larger dataset (including other frequencies))\n",
    "\n",
    "data_response = ecb.data(resource_id = 'EXR', key={'CURRENCY': ['CHF', 'EUR']}, params = {'startPeriod': '2016'})\n",
    "data = data_response.data"
   ]
  },
  {
   "cell_type": "code",
   "execution_count": 14,
   "metadata": {},
   "outputs": [
    {
     "data": {
      "text/plain": [
       "pandasdmx.model.DataSet"
      ]
     },
     "execution_count": 14,
     "metadata": {},
     "output_type": "execute_result"
    }
   ],
   "source": [
    "# The data will be a pandaSDMC 'DataSet'\n",
    "\n",
    "type(data)"
   ]
  },
  {
   "cell_type": "code",
   "execution_count": 15,
   "metadata": {},
   "outputs": [
    {
     "data": {
      "text/plain": [
       "{'A', 'D', 'H', 'M', 'Q'}"
      ]
     },
     "execution_count": 15,
     "metadata": {},
     "output_type": "execute_result"
    }
   ],
   "source": [
    "# Show which frequencies are available \n",
    "# 'D' is 'daily', and you can probably guess the other ones\n",
    "\n",
    "set(s.key.FREQ for s in data.series)"
   ]
  },
  {
   "cell_type": "code",
   "execution_count": 16,
   "metadata": {},
   "outputs": [
    {
     "data": {
      "text/html": [
       "<div>\n",
       "<style scoped>\n",
       "    .dataframe tbody tr th:only-of-type {\n",
       "        vertical-align: middle;\n",
       "    }\n",
       "\n",
       "    .dataframe tbody tr th {\n",
       "        vertical-align: top;\n",
       "    }\n",
       "\n",
       "    .dataframe thead tr th {\n",
       "        text-align: left;\n",
       "    }\n",
       "\n",
       "    .dataframe thead tr:last-of-type th {\n",
       "        text-align: right;\n",
       "    }\n",
       "</style>\n",
       "<table border=\"1\" class=\"dataframe\">\n",
       "  <thead>\n",
       "    <tr>\n",
       "      <th>FREQ</th>\n",
       "      <th>D</th>\n",
       "    </tr>\n",
       "    <tr>\n",
       "      <th>CURRENCY</th>\n",
       "      <th>CHF</th>\n",
       "    </tr>\n",
       "    <tr>\n",
       "      <th>CURRENCY_DENOM</th>\n",
       "      <th>EUR</th>\n",
       "    </tr>\n",
       "    <tr>\n",
       "      <th>EXR_TYPE</th>\n",
       "      <th>SP00</th>\n",
       "    </tr>\n",
       "    <tr>\n",
       "      <th>EXR_SUFFIX</th>\n",
       "      <th>A</th>\n",
       "    </tr>\n",
       "    <tr>\n",
       "      <th>TIME_PERIOD</th>\n",
       "      <th></th>\n",
       "    </tr>\n",
       "  </thead>\n",
       "  <tbody>\n",
       "    <tr>\n",
       "      <th>2019-07-23</th>\n",
       "      <td>1.0985</td>\n",
       "    </tr>\n",
       "    <tr>\n",
       "      <th>2019-07-24</th>\n",
       "      <td>1.0982</td>\n",
       "    </tr>\n",
       "    <tr>\n",
       "      <th>2019-07-25</th>\n",
       "      <td>1.0989</td>\n",
       "    </tr>\n",
       "    <tr>\n",
       "      <th>2019-07-26</th>\n",
       "      <td>1.1053</td>\n",
       "    </tr>\n",
       "    <tr>\n",
       "      <th>2019-07-29</th>\n",
       "      <td>1.1037</td>\n",
       "    </tr>\n",
       "  </tbody>\n",
       "</table>\n",
       "</div>"
      ],
      "text/plain": [
       "FREQ                 D\n",
       "CURRENCY           CHF\n",
       "CURRENCY_DENOM     EUR\n",
       "EXR_TYPE          SP00\n",
       "EXR_SUFFIX           A\n",
       "TIME_PERIOD           \n",
       "2019-07-23      1.0985\n",
       "2019-07-24      1.0982\n",
       "2019-07-25      1.0989\n",
       "2019-07-26      1.1053\n",
       "2019-07-29      1.1037"
      ]
     },
     "execution_count": 16,
     "metadata": {},
     "output_type": "execute_result"
    }
   ],
   "source": [
    "# Filter the the daily data and 'write' it to a DataFrame\n",
    "\n",
    "daily = (s for s in data.series if s.key.FREQ == 'D')\n",
    "ts2 = data_response.write(daily)\n",
    "ts2.tail()"
   ]
  },
  {
   "cell_type": "code",
   "execution_count": 17,
   "metadata": {},
   "outputs": [
    {
     "data": {
      "text/plain": [
       "<matplotlib.axes._subplots.AxesSubplot at 0x19721b9a668>"
      ]
     },
     "execution_count": 17,
     "metadata": {},
     "output_type": "execute_result"
    },
    {
     "data": {
      "image/png": "[encoded data removed]",
      "text/plain": [
       "<Figure size 576x432 with 1 Axes>"
      ]
     },
     "metadata": {
      "needs_background": "light"
     },
     "output_type": "display_data"
    }
   ],
   "source": [
    "# A simple plot\n",
    "\n",
    "ts2.plot(figsize=(8, 6), legend=False, grid=True)"
   ]
  },
  {
   "cell_type": "markdown",
   "metadata": {},
   "source": [
    "# Bank of England"
   ]
  },
  {
   "cell_type": "code",
   "execution_count": 18,
   "metadata": {},
   "outputs": [],
   "source": [
    "url_endpoint = 'http://www.bankofengland.co.uk/boeapps/iadb/fromshowcolumns.asp?csv.x=yes'"
   ]
  },
  {
   "cell_type": "code",
   "execution_count": 19,
   "metadata": {},
   "outputs": [],
   "source": [
    "payload = {\n",
    "    'Datefrom'   : '01/Jan/2000',\n",
    "    'Dateto'     : '01/Oct/2018',\n",
    "    'SeriesCodes': 'IUMBV34,IUMBV37,IUMBV42,IUMBV45',\n",
    "    'CSVF'       : 'TN',\n",
    "    'UsingCodes' : 'Y',\n",
    "    'VPD'        : 'Y',\n",
    "    'VFD'        : 'N'\n",
    "}"
   ]
  },
  {
   "cell_type": "code",
   "execution_count": 20,
   "metadata": {},
   "outputs": [
    {
     "name": "stdout",
     "output_type": "stream",
     "text": [
      "200\n"
     ]
    }
   ],
   "source": [
    "response = requests.get(url_endpoint, params=payload)\n",
    "print(response.status_code)"
   ]
  },
  {
   "cell_type": "code",
   "execution_count": 21,
   "metadata": {},
   "outputs": [],
   "source": [
    "df = pd.read_csv(io.BytesIO(response.content))"
   ]
  },
  {
   "cell_type": "code",
   "execution_count": 22,
   "metadata": {},
   "outputs": [
    {
     "data": {
      "text/html": [
       "<div>\n",
       "<style scoped>\n",
       "    .dataframe tbody tr th:only-of-type {\n",
       "        vertical-align: middle;\n",
       "    }\n",
       "\n",
       "    .dataframe tbody tr th {\n",
       "        vertical-align: top;\n",
       "    }\n",
       "\n",
       "    .dataframe thead th {\n",
       "        text-align: right;\n",
       "    }\n",
       "</style>\n",
       "<table border=\"1\" class=\"dataframe\">\n",
       "  <thead>\n",
       "    <tr style=\"text-align: right;\">\n",
       "      <th></th>\n",
       "      <th>DATE</th>\n",
       "      <th>IUMBV34</th>\n",
       "      <th>IUMBV37</th>\n",
       "      <th>IUMBV42</th>\n",
       "      <th>IUMBV45</th>\n",
       "    </tr>\n",
       "  </thead>\n",
       "  <tbody>\n",
       "    <tr>\n",
       "      <th>0</th>\n",
       "      <td>31 Jan 2000</td>\n",
       "      <td>6.78</td>\n",
       "      <td>6.78</td>\n",
       "      <td>7.09</td>\n",
       "      <td>7.29</td>\n",
       "    </tr>\n",
       "    <tr>\n",
       "      <th>1</th>\n",
       "      <td>29 Feb 2000</td>\n",
       "      <td>6.79</td>\n",
       "      <td>6.80</td>\n",
       "      <td>7.11</td>\n",
       "      <td>0</td>\n",
       "    </tr>\n",
       "    <tr>\n",
       "      <th>2</th>\n",
       "      <td>31 Mar 2000</td>\n",
       "      <td>6.45</td>\n",
       "      <td>6.70</td>\n",
       "      <td>6.94</td>\n",
       "      <td>6.54</td>\n",
       "    </tr>\n",
       "    <tr>\n",
       "      <th>3</th>\n",
       "      <td>30 Apr 2000</td>\n",
       "      <td>6.31</td>\n",
       "      <td>6.68</td>\n",
       "      <td>6.92</td>\n",
       "      <td>6.54</td>\n",
       "    </tr>\n",
       "    <tr>\n",
       "      <th>4</th>\n",
       "      <td>31 May 2000</td>\n",
       "      <td>6.39</td>\n",
       "      <td>6.64</td>\n",
       "      <td>6.90</td>\n",
       "      <td>6.69</td>\n",
       "    </tr>\n",
       "  </tbody>\n",
       "</table>\n",
       "</div>"
      ],
      "text/plain": [
       "          DATE  IUMBV34  IUMBV37  IUMBV42 IUMBV45\n",
       "0  31 Jan 2000     6.78     6.78     7.09    7.29\n",
       "1  29 Feb 2000     6.79     6.80     7.11       0\n",
       "2  31 Mar 2000     6.45     6.70     6.94    6.54\n",
       "3  30 Apr 2000     6.31     6.68     6.92    6.54\n",
       "4  31 May 2000     6.39     6.64     6.90    6.69"
      ]
     },
     "execution_count": 22,
     "metadata": {},
     "output_type": "execute_result"
    }
   ],
   "source": [
    "df.head()"
   ]
  },
  {
   "cell_type": "code",
   "execution_count": 23,
   "metadata": {},
   "outputs": [
    {
     "name": "stdout",
     "output_type": "stream",
     "text": [
      "<class 'pandas.core.frame.DataFrame'>\n",
      "RangeIndex: 225 entries, 0 to 224\n",
      "Data columns (total 5 columns):\n",
      "DATE       225 non-null object\n",
      "IUMBV34    225 non-null float64\n",
      "IUMBV37    225 non-null float64\n",
      "IUMBV42    225 non-null float64\n",
      "IUMBV45    225 non-null object\n",
      "dtypes: float64(3), object(2)\n",
      "memory usage: 8.9+ KB\n"
     ]
    }
   ],
   "source": [
    "df.info()"
   ]
  },
  {
   "cell_type": "code",
   "execution_count": 24,
   "metadata": {},
   "outputs": [],
   "source": [
    "# Convert 'DATE' to datetime format\n",
    "\n",
    "df['DATE'] = pd.to_datetime(df['DATE'])\n",
    "df = df.set_index('DATE')"
   ]
  },
  {
   "cell_type": "code",
   "execution_count": 25,
   "metadata": {},
   "outputs": [
    {
     "data": {
      "text/plain": [
       "DatetimeIndex(['2000-01-31', '2000-02-29', '2000-03-31', '2000-04-30',\n",
       "               '2000-05-31', '2000-06-30', '2000-07-31', '2000-08-31',\n",
       "               '2000-09-30', '2000-10-31',\n",
       "               ...\n",
       "               '2017-12-31', '2018-01-31', '2018-02-28', '2018-03-31',\n",
       "               '2018-04-30', '2018-05-31', '2018-06-30', '2018-07-31',\n",
       "               '2018-08-31', '2018-09-30'],\n",
       "              dtype='datetime64[ns]', name='DATE', length=225, freq=None)"
      ]
     },
     "execution_count": 25,
     "metadata": {},
     "output_type": "execute_result"
    }
   ],
   "source": [
    "df.index"
   ]
  },
  {
   "cell_type": "code",
   "execution_count": 26,
   "metadata": {},
   "outputs": [],
   "source": [
    "df['IUMBV45'] = pd.to_numeric(df['IUMBV45'], errors='coerce')"
   ]
  },
  {
   "cell_type": "code",
   "execution_count": 27,
   "metadata": {},
   "outputs": [
    {
     "data": {
      "text/plain": [
       "<matplotlib.axes._subplots.AxesSubplot at 0x19721b7ab38>"
      ]
     },
     "execution_count": 27,
     "metadata": {},
     "output_type": "execute_result"
    },
    {
     "data": {
      "image/png": "[encoded data removed]",
      "text/plain": [
       "<Figure size 576x432 with 1 Axes>"
      ]
     },
     "metadata": {
      "needs_background": "light"
     },
     "output_type": "display_data"
    }
   ],
   "source": [
    "df.plot(figsize=(8, 6), grid=True)"
   ]
  }
 ],
 "metadata": {
  "kernelspec": {
   "display_name": "Python 3",
   "language": "python",
   "name": "python3"
  },
  "language_info": {
   "codemirror_mode": {
    "name": "ipython",
    "version": 3
   },
   "file_extension": ".py",
   "mimetype": "text/x-python",
   "name": "python",
   "nbconvert_exporter": "python",
   "pygments_lexer": "ipython3",
   "version": "3.7.3"
  }
 },
 "nbformat": 4,
 "nbformat_minor": 2
}
