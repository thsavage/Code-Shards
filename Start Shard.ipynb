{
 "cells": [
  {
   "cell_type": "code",
   "execution_count": 1,
   "metadata": {
    "collapsed": true
   },
   "outputs": [],
   "source": [
    "import matplotlib.pyplot as plt\n",
    "import numpy as np"
   ]
  },
  {
   "cell_type": "code",
   "execution_count": 2,
   "metadata": {},
   "outputs": [
    {
     "name": "stderr",
     "output_type": "stream",
     "text": [
      "Using TensorFlow backend.\n"
     ]
    }
   ],
   "source": [
    "from keras.models import Sequential\n",
    "from keras.layers import Dense\n",
    "from keras.layers import Dropout"
   ]
  },
  {
   "cell_type": "code",
   "execution_count": 3,
   "metadata": {},
   "outputs": [
    {
     "name": "stderr",
     "output_type": "stream",
     "text": [
      "/Users/timothysavage/anaconda/lib/python3.5/site-packages/statsmodels/compat/pandas.py:56: FutureWarning: The pandas.core.datetools module is deprecated and will be removed in a future version. Please use the pandas.tseries module instead.\n",
      "  from pandas.core import datetools\n"
     ]
    }
   ],
   "source": [
    "import pandas as pd\n",
    "import pandas_datareader.data as web\n",
    "import fix_yahoo_finance\n",
    "import statsmodels.api as sm\n",
    "import statsmodels.formula.api as smf"
   ]
  },
  {
   "cell_type": "code",
   "execution_count": 4,
   "metadata": {
    "scrolled": false
   },
   "outputs": [
    {
     "name": "stdout",
     "output_type": "stream",
     "text": [
      "[*********************100%***********************]  1 of 1 downloaded"
     ]
    }
   ],
   "source": [
    "# Grab 10 years of Apple and NASDAQ data.  \n",
    "# Note that the old Yahoo Finance API was deprecated.  (Thanks, Verizon!  That Marissa pay-out was steep.)\n",
    "# Ran Aroussi has developed a fix that saves accessibility to Yahoo Finance. Thanks, Ran! Great stuff. \n",
    "\n",
    "start, end = \"2006-01-01\", \"2015-12-31\"\n",
    "aapl_all = web.get_data_yahoo(\"aapl\", start=start, end=end)\n",
    "nasdaq_all = web.get_data_yahoo(\"^ixic\", start=start, end=end)\n",
    "aapl = aapl_all['Adj Close']\n",
    "nasdaq = nasdaq_all['Adj Close']"
   ]
  },
  {
   "cell_type": "code",
   "execution_count": 5,
   "metadata": {},
   "outputs": [
    {
     "data": {
      "text/html": [
       "<div>\n",
       "<style>\n",
       "    .dataframe thead tr:only-child th {\n",
       "        text-align: right;\n",
       "    }\n",
       "\n",
       "    .dataframe thead th {\n",
       "        text-align: left;\n",
       "    }\n",
       "\n",
       "    .dataframe tbody tr th {\n",
       "        vertical-align: top;\n",
       "    }\n",
       "</style>\n",
       "<table border=\"1\" class=\"dataframe\">\n",
       "  <thead>\n",
       "    <tr style=\"text-align: right;\">\n",
       "      <th></th>\n",
       "      <th>Open</th>\n",
       "      <th>High</th>\n",
       "      <th>Low</th>\n",
       "      <th>Close</th>\n",
       "      <th>Adj Close</th>\n",
       "      <th>Volume</th>\n",
       "    </tr>\n",
       "    <tr>\n",
       "      <th>Date</th>\n",
       "      <th></th>\n",
       "      <th></th>\n",
       "      <th></th>\n",
       "      <th></th>\n",
       "      <th></th>\n",
       "      <th></th>\n",
       "    </tr>\n",
       "  </thead>\n",
       "  <tbody>\n",
       "    <tr>\n",
       "      <th>2006-01-03</th>\n",
       "      <td>2216.530029</td>\n",
       "      <td>2249.679932</td>\n",
       "      <td>2189.909912</td>\n",
       "      <td>2243.739990</td>\n",
       "      <td>2243.739990</td>\n",
       "      <td>1998300000</td>\n",
       "    </tr>\n",
       "    <tr>\n",
       "      <th>2006-01-04</th>\n",
       "      <td>2246.959961</td>\n",
       "      <td>2265.280029</td>\n",
       "      <td>2246.070068</td>\n",
       "      <td>2263.459961</td>\n",
       "      <td>2263.459961</td>\n",
       "      <td>1887560000</td>\n",
       "    </tr>\n",
       "    <tr>\n",
       "      <th>2006-01-05</th>\n",
       "      <td>2264.929932</td>\n",
       "      <td>2277.560059</td>\n",
       "      <td>2264.500000</td>\n",
       "      <td>2276.870117</td>\n",
       "      <td>2276.870117</td>\n",
       "      <td>1891750000</td>\n",
       "    </tr>\n",
       "    <tr>\n",
       "      <th>2006-01-06</th>\n",
       "      <td>2289.209961</td>\n",
       "      <td>2306.719971</td>\n",
       "      <td>2281.010010</td>\n",
       "      <td>2305.620117</td>\n",
       "      <td>2305.620117</td>\n",
       "      <td>2233640000</td>\n",
       "    </tr>\n",
       "    <tr>\n",
       "      <th>2006-01-09</th>\n",
       "      <td>2306.179932</td>\n",
       "      <td>2322.629883</td>\n",
       "      <td>2303.129883</td>\n",
       "      <td>2318.689941</td>\n",
       "      <td>2318.689941</td>\n",
       "      <td>1949140000</td>\n",
       "    </tr>\n",
       "    <tr>\n",
       "      <th>2006-01-10</th>\n",
       "      <td>2306.219971</td>\n",
       "      <td>2320.320068</td>\n",
       "      <td>2303.929932</td>\n",
       "      <td>2320.320068</td>\n",
       "      <td>2320.320068</td>\n",
       "      <td>1978160000</td>\n",
       "    </tr>\n",
       "    <tr>\n",
       "      <th>2006-01-11</th>\n",
       "      <td>2321.409912</td>\n",
       "      <td>2332.919922</td>\n",
       "      <td>2316.489990</td>\n",
       "      <td>2331.360107</td>\n",
       "      <td>2331.360107</td>\n",
       "      <td>2380600000</td>\n",
       "    </tr>\n",
       "    <tr>\n",
       "      <th>2006-01-12</th>\n",
       "      <td>2327.169922</td>\n",
       "      <td>2330.310059</td>\n",
       "      <td>2313.219971</td>\n",
       "      <td>2316.689941</td>\n",
       "      <td>2316.689941</td>\n",
       "      <td>2011460000</td>\n",
       "    </tr>\n",
       "    <tr>\n",
       "      <th>2006-01-13</th>\n",
       "      <td>2317.739990</td>\n",
       "      <td>2321.699951</td>\n",
       "      <td>2308.159912</td>\n",
       "      <td>2317.040039</td>\n",
       "      <td>2317.040039</td>\n",
       "      <td>1784410000</td>\n",
       "    </tr>\n",
       "    <tr>\n",
       "      <th>2006-01-17</th>\n",
       "      <td>2302.560059</td>\n",
       "      <td>2305.870117</td>\n",
       "      <td>2294.050049</td>\n",
       "      <td>2302.689941</td>\n",
       "      <td>2302.689941</td>\n",
       "      <td>1702260000</td>\n",
       "    </tr>\n",
       "  </tbody>\n",
       "</table>\n",
       "</div>"
      ],
      "text/plain": [
       "                   Open         High          Low        Close    Adj Close  \\\n",
       "Date                                                                          \n",
       "2006-01-03  2216.530029  2249.679932  2189.909912  2243.739990  2243.739990   \n",
       "2006-01-04  2246.959961  2265.280029  2246.070068  2263.459961  2263.459961   \n",
       "2006-01-05  2264.929932  2277.560059  2264.500000  2276.870117  2276.870117   \n",
       "2006-01-06  2289.209961  2306.719971  2281.010010  2305.620117  2305.620117   \n",
       "2006-01-09  2306.179932  2322.629883  2303.129883  2318.689941  2318.689941   \n",
       "2006-01-10  2306.219971  2320.320068  2303.929932  2320.320068  2320.320068   \n",
       "2006-01-11  2321.409912  2332.919922  2316.489990  2331.360107  2331.360107   \n",
       "2006-01-12  2327.169922  2330.310059  2313.219971  2316.689941  2316.689941   \n",
       "2006-01-13  2317.739990  2321.699951  2308.159912  2317.040039  2317.040039   \n",
       "2006-01-17  2302.560059  2305.870117  2294.050049  2302.689941  2302.689941   \n",
       "\n",
       "                Volume  \n",
       "Date                    \n",
       "2006-01-03  1998300000  \n",
       "2006-01-04  1887560000  \n",
       "2006-01-05  1891750000  \n",
       "2006-01-06  2233640000  \n",
       "2006-01-09  1949140000  \n",
       "2006-01-10  1978160000  \n",
       "2006-01-11  2380600000  \n",
       "2006-01-12  2011460000  \n",
       "2006-01-13  1784410000  \n",
       "2006-01-17  1702260000  "
      ]
     },
     "execution_count": 5,
     "metadata": {},
     "output_type": "execute_result"
    }
   ],
   "source": [
    "nasdaq_all.head(10)"
   ]
  },
  {
   "cell_type": "code",
   "execution_count": 6,
   "metadata": {
    "collapsed": true
   },
   "outputs": [],
   "source": [
    "# Calculate daily returns.\n",
    "\n",
    "aapl_returns = np.log(aapl / aapl.shift(1))\n",
    "nasdaq_returns = np.log(nasdaq / nasdaq.shift(1))\n",
    "aapl_returns = aapl_returns.dropna()\n",
    "nasdaq_returns = nasdaq_returns.dropna()\n",
    "aapl_returns = pd.DataFrame(aapl_returns)\n",
    "nasdaq_returns = pd.DataFrame(nasdaq_returns)"
   ]
  },
  {
   "cell_type": "code",
   "execution_count": 7,
   "metadata": {},
   "outputs": [
    {
     "name": "stdout",
     "output_type": "stream",
     "text": [
      "         Adj Close\n",
      "count  2516.000000\n",
      "mean      0.000938\n",
      "std       0.021618\n",
      "min      -0.197470\n",
      "25%      -0.009446\n",
      "50%       0.000897\n",
      "75%       0.012243\n",
      "max       0.130194\n",
      "         Adj Close\n",
      "count  2516.000000\n",
      "mean      0.000319\n",
      "std       0.013934\n",
      "min      -0.095877\n",
      "25%      -0.005501\n",
      "50%       0.000957\n",
      "75%       0.006919\n",
      "max       0.111594\n"
     ]
    }
   ],
   "source": [
    "print(aapl_returns.describe())\n",
    "print(nasdaq_returns.describe())"
   ]
  },
  {
   "cell_type": "code",
   "execution_count": 8,
   "metadata": {
    "collapsed": true
   },
   "outputs": [],
   "source": [
    "from sklearn.model_selection import train_test_split"
   ]
  },
  {
   "cell_type": "code",
   "execution_count": 9,
   "metadata": {
    "collapsed": true
   },
   "outputs": [],
   "source": [
    "data = pd.merge(nasdaq_returns, aapl_returns, left_index=True, right_index=True)\n",
    "data.rename(columns={'Adj Close_x':'nasdaq', 'Adj Close_y':'aapl'}, inplace=True)\n",
    "datatrain, datatest = train_test_split(data, test_size = 0.2)"
   ]
  },
  {
   "cell_type": "code",
   "execution_count": 10,
   "metadata": {},
   "outputs": [
    {
     "name": "stderr",
     "output_type": "stream",
     "text": [
      "/Users/timothysavage/anaconda/lib/python3.5/site-packages/ipykernel/__main__.py:5: SettingWithCopyWarning: \n",
      "A value is trying to be set on a copy of a slice from a DataFrame.\n",
      "Try using .loc[row_indexer,col_indexer] = value instead\n",
      "\n",
      "See the caveats in the documentation: http://pandas.pydata.org/pandas-docs/stable/indexing.html#indexing-view-versus-copy\n"
     ]
    }
   ],
   "source": [
    "# We need a baseline against which to compare the deep learner.  \n",
    "# The most obvious is regression and its prediction or out-of-sample error, the MSE.\n",
    "\n",
    "mod = smf.ols(formula='aapl ~ nasdaq', data = datatrain).fit()\n",
    "datatest['fitted'] = mod.predict(exog = datatest)"
   ]
  },
  {
   "cell_type": "code",
   "execution_count": 11,
   "metadata": {},
   "outputs": [
    {
     "name": "stdout",
     "output_type": "stream",
     "text": [
      "The average out-sample AAPL return is 0.000271\n",
      "The average predicted AAPL return is 0.000285\n",
      "The MSE is 0.000232\n"
     ]
    }
   ],
   "source": [
    "# The baseline against which to measure.\n",
    "\n",
    "print('The average out-sample AAPL return is %f' % datatest['aapl'].mean())\n",
    "print('The average predicted AAPL return is %f' % datatest['fitted'].mean())\n",
    "print('The MSE is %f' % ((datatest['aapl'] - datatest['fitted'])**2).mean())"
   ]
  },
  {
   "cell_type": "code",
   "execution_count": 12,
   "metadata": {
    "collapsed": true
   },
   "outputs": [],
   "source": [
    "train_X = datatrain['nasdaq'].as_matrix()\n",
    "train_y = datatrain['aapl'].as_matrix()\n",
    "test_X = datatest['nasdaq'].as_matrix()\n",
    "test_y = datatest['aapl'].as_matrix()\n",
    "\n",
    "dim = data.shape[1]"
   ]
  },
  {
   "cell_type": "code",
   "execution_count": 13,
   "metadata": {},
   "outputs": [
    {
     "name": "stderr",
     "output_type": "stream",
     "text": [
      "/Users/timothysavage/anaconda/lib/python3.5/site-packages/ipykernel/__main__.py:15: SettingWithCopyWarning: \n",
      "A value is trying to be set on a copy of a slice from a DataFrame.\n",
      "Try using .loc[row_indexer,col_indexer] = value instead\n",
      "\n",
      "See the caveats in the documentation: http://pandas.pydata.org/pandas-docs/stable/indexing.html#indexing-view-versus-copy\n"
     ]
    }
   ],
   "source": [
    "model = Sequential()\n",
    "model.add(Dense(units=500, activation='relu', input_dim=1))\n",
    "model.add(Dense(units=1000, activation='relu', input_dim=1))\n",
    "model.add(Dense(units=1000, activation='relu', input_dim=1))\n",
    "model.add(Dense(units=1000, activation='relu', input_dim=1))\n",
    "model.add(Dense(units=500, activation='relu', input_dim=1))\n",
    "model.add(Dense(units=1))\n",
    "\n",
    "# Compile, fit, and generate scores and predicted probabilities.\n",
    "model.compile(loss='mse', optimizer='adam', metrics=['mse'])\n",
    "\n",
    "#model.fit(data, labels, epochs=20, batch_size=100)\n",
    "model.fit(train_X, train_y, epochs=20, batch_size=100, verbose=0)\n",
    "target = model.predict(test_X)\n",
    "datatest['target'] = target"
   ]
  },
  {
   "cell_type": "code",
   "execution_count": 14,
   "metadata": {},
   "outputs": [
    {
     "name": "stdout",
     "output_type": "stream",
     "text": [
      "The average out-sample AAPL return is 0.000271\n",
      "The average predicted AAPL return is 0.000285\n",
      "The MSE is 0.000232\n"
     ]
    }
   ],
   "source": [
    "# Baseline.\n",
    "\n",
    "print('The average out-sample AAPL return is %f' % datatest['aapl'].mean())\n",
    "print('The average predicted AAPL return is %f' % datatest['fitted'].mean())\n",
    "print('The MSE is %f' % ((datatest['aapl'] - datatest['fitted'])**2).mean())"
   ]
  },
  {
   "cell_type": "code",
   "execution_count": 15,
   "metadata": {},
   "outputs": [
    {
     "name": "stdout",
     "output_type": "stream",
     "text": [
      "The average out-sample AAPL return is 0.000271\n",
      "The average predicted AAPL return is -0.001049\n",
      "The MSE is 0.000247\n"
     ]
    }
   ],
   "source": [
    "# MLP.\n",
    "\n",
    "print('The average out-sample AAPL return is %f' % datatest['aapl'].mean())\n",
    "print('The average predicted AAPL return is %f' % datatest['target'].mean())\n",
    "print('The MSE is %f' % ((datatest['aapl'] - datatest['target'])**2).mean())"
   ]
  },
  {
   "cell_type": "code",
   "execution_count": 16,
   "metadata": {},
   "outputs": [
    {
     "name": "stdout",
     "output_type": "stream",
     "text": [
      "0\n"
     ]
    },
    {
     "name": "stderr",
     "output_type": "stream",
     "text": [
      "/Users/timothysavage/anaconda/lib/python3.5/site-packages/ipykernel/__main__.py:13: SettingWithCopyWarning: \n",
      "A value is trying to be set on a copy of a slice from a DataFrame.\n",
      "Try using .loc[row_indexer,col_indexer] = value instead\n",
      "\n",
      "See the caveats in the documentation: http://pandas.pydata.org/pandas-docs/stable/indexing.html#indexing-view-versus-copy\n"
     ]
    },
    {
     "name": "stdout",
     "output_type": "stream",
     "text": [
      "The MSE is 0.000291\n",
      "1\n",
      "The MSE is 0.000242\n",
      "2\n",
      "The MSE is 0.000327\n",
      "3\n",
      "The MSE is 0.000250\n",
      "4\n",
      "The MSE is 0.000250\n",
      "5\n",
      "The MSE is 0.000245\n",
      "6\n",
      "The MSE is 0.000269\n",
      "7\n",
      "The MSE is 0.000247\n",
      "8\n",
      "The MSE is 0.000269\n"
     ]
    }
   ],
   "source": [
    "for i in range(9):\n",
    "    print(i)\n",
    "    model = Sequential()\n",
    "    model.add(Dense(units=500, activation='relu', input_dim=1))\n",
    "    model.add(Dense(units=1000, activation='relu', input_dim=1))\n",
    "    model.add(Dense(units=1000, activation='relu', input_dim=1))\n",
    "    model.add(Dense(units=1000, activation='relu', input_dim=1))\n",
    "    model.add(Dense(units=500, activation='relu', input_dim=1))\n",
    "    model.add(Dense(units=1))\n",
    "    model.compile(loss='mse', optimizer='adam', metrics=['mse'])\n",
    "    model.fit(train_X, train_y, epochs=20, batch_size=100, verbose=0)\n",
    "    target = model.predict(test_X)\n",
    "    datatest['target'] = target\n",
    "    print('The MSE is %f' % ((datatest['aapl'] - datatest['target'])**2).mean())    "
   ]
  },
  {
   "cell_type": "code",
   "execution_count": null,
   "metadata": {
    "collapsed": true
   },
   "outputs": [],
   "source": []
  }
 ],
 "metadata": {
  "anaconda-cloud": {},
  "kernelspec": {
   "display_name": "Python [conda root]",
   "language": "python",
   "name": "conda-root-py"
  },
  "language_info": {
   "codemirror_mode": {
    "name": "ipython",
    "version": 3
   },
   "file_extension": ".py",
   "mimetype": "text/x-python",
   "name": "python",
   "nbconvert_exporter": "python",
   "pygments_lexer": "ipython3",
   "version": "3.5.2"
  }
 },
 "nbformat": 4,
 "nbformat_minor": 2
}
