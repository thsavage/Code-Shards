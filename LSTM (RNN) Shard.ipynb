{
 "cells": [
  {
   "cell_type": "code",
   "execution_count": 1,
   "metadata": {},
   "outputs": [
    {
     "name": "stderr",
     "output_type": "stream",
     "text": [
      "Using TensorFlow backend.\n"
     ]
    }
   ],
   "source": [
    "import numpy as np\n",
    "from keras.models import Sequential\n",
    "from keras.layers import Dense\n",
    "from keras.layers import LSTM\n",
    "from keras import optimizers\n",
    "from keras.callbacks import LearningRateScheduler\n",
    "from keras.callbacks import ModelCheckpoint\n",
    "import keras.backend as K\n",
    "from keras.models import load_model"
   ]
  },
  {
   "cell_type": "code",
   "execution_count": 2,
   "metadata": {},
   "outputs": [
    {
     "name": "stdout",
     "output_type": "stream",
     "text": [
      "(1000, 1) (1000, 1)\n"
     ]
    },
    {
     "data": {
      "text/plain": [
       "1"
      ]
     },
     "execution_count": 2,
     "metadata": {},
     "output_type": "execute_result"
    }
   ],
   "source": [
    "# Start with white noise\n",
    "\n",
    "data = np.random.random((1000, 1))\n",
    "labels = np.random.random((1000, 1))\n",
    "\n",
    "print(data.shape, labels.shape)\n",
    "dim = data.shape[1]\n",
    "dim"
   ]
  },
  {
   "cell_type": "code",
   "execution_count": 3,
   "metadata": {},
   "outputs": [
    {
     "name": "stdout",
     "output_type": "stream",
     "text": [
      "Epoch 1/20\n",
      "0s - loss: 0.1829 - mean_squared_error: 0.1829\n",
      "Epoch 2/20\n",
      "0s - loss: 0.1176 - mean_squared_error: 0.1176\n",
      "Epoch 3/20\n",
      "0s - loss: 0.0962 - mean_squared_error: 0.0962\n",
      "Epoch 4/20\n",
      "0s - loss: 0.0924 - mean_squared_error: 0.0924\n",
      "Epoch 5/20\n",
      "0s - loss: 0.0924 - mean_squared_error: 0.0924\n",
      "Epoch 6/20\n",
      "0s - loss: 0.0907 - mean_squared_error: 0.0907\n",
      "Epoch 7/20\n",
      "0s - loss: 0.0924 - mean_squared_error: 0.0924\n",
      "Epoch 8/20\n",
      "0s - loss: 0.0910 - mean_squared_error: 0.0910\n",
      "Epoch 9/20\n",
      "0s - loss: 0.0932 - mean_squared_error: 0.0932\n",
      "Epoch 10/20\n",
      "0s - loss: 0.0915 - mean_squared_error: 0.0915\n",
      "Epoch 11/20\n",
      "0s - loss: 0.0918 - mean_squared_error: 0.0918\n",
      "Epoch 12/20\n",
      "0s - loss: 0.0925 - mean_squared_error: 0.0925\n",
      "Epoch 13/20\n",
      "0s - loss: 0.0915 - mean_squared_error: 0.0915\n",
      "Epoch 14/20\n",
      "0s - loss: 0.0911 - mean_squared_error: 0.0911\n",
      "Epoch 15/20\n",
      "0s - loss: 0.0906 - mean_squared_error: 0.0906\n",
      "Epoch 16/20\n",
      "0s - loss: 0.0905 - mean_squared_error: 0.0905\n",
      "Epoch 17/20\n",
      "0s - loss: 0.0905 - mean_squared_error: 0.0905\n",
      "Epoch 18/20\n",
      "0s - loss: 0.0920 - mean_squared_error: 0.0920\n",
      "Epoch 19/20\n",
      "0s - loss: 0.0922 - mean_squared_error: 0.0922\n",
      "Epoch 20/20\n",
      "0s - loss: 0.0914 - mean_squared_error: 0.0914\n"
     ]
    },
    {
     "data": {
      "text/plain": [
       "<keras.callbacks.History at 0x11a53f828>"
      ]
     },
     "execution_count": 3,
     "metadata": {},
     "output_type": "execute_result"
    }
   ],
   "source": [
    "# Do an MLP with three hidden layers with 1000, 1000, and 1000 neurons respectively as regression.\n",
    "\n",
    "model = Sequential()\n",
    "model.add(Dense(units=1000, activation='relu', input_dim=dim))\n",
    "model.add(Dense(units=1000, activation='relu', input_dim=dim))\n",
    "model.add(Dense(units=1000, activation='relu', input_dim=dim))\n",
    "model.add(Dense(units=1))\n",
    "model.compile(optimizer='adam', loss='mse', metrics=['mse'])\n",
    "model.fit(data, labels, epochs=20, batch_size=100, verbose=2)"
   ]
  },
  {
   "cell_type": "code",
   "execution_count": 4,
   "metadata": {
    "collapsed": true
   },
   "outputs": [],
   "source": [
    "data_test = np.random.random((1000,1))\n",
    "predictions = model.predict(data_test)"
   ]
  },
  {
   "cell_type": "code",
   "execution_count": 5,
   "metadata": {},
   "outputs": [
    {
     "name": "stdout",
     "output_type": "stream",
     "text": [
      "0.49703925877 0.488052\n",
      "0.0906545783369 0.000308527\n"
     ]
    },
    {
     "data": {
      "text/plain": [
       "0.091858285897416569"
      ]
     },
     "execution_count": 5,
     "metadata": {},
     "output_type": "execute_result"
    }
   ],
   "source": [
    "# Look at means, variances, and MSE\n",
    "\n",
    "print(labels.mean(), predictions.mean())\n",
    "print(labels.var(), predictions.var())\n",
    "((labels - predictions)**2).mean()"
   ]
  },
  {
   "cell_type": "code",
   "execution_count": 6,
   "metadata": {},
   "outputs": [
    {
     "data": {
      "text/plain": [
       "array([[ 0.48186737],\n",
       "       [ 0.471735  ],\n",
       "       [ 0.52572197],\n",
       "       [ 0.47310299],\n",
       "       [ 0.47327346],\n",
       "       [ 0.48327595],\n",
       "       [ 0.47396868],\n",
       "       [ 0.47192734],\n",
       "       [ 0.47808653],\n",
       "       [ 0.49596161],\n",
       "       [ 0.50435668],\n",
       "       [ 0.47291726],\n",
       "       [ 0.49680221],\n",
       "       [ 0.52244359],\n",
       "       [ 0.4894729 ],\n",
       "       [ 0.49485621],\n",
       "       [ 0.4846994 ],\n",
       "       [ 0.49121338],\n",
       "       [ 0.47448862],\n",
       "       [ 0.4842155 ],\n",
       "       [ 0.52029014],\n",
       "       [ 0.47566202],\n",
       "       [ 0.52570695],\n",
       "       [ 0.51290888],\n",
       "       [ 0.47307199]], dtype=float32)"
      ]
     },
     "execution_count": 6,
     "metadata": {},
     "output_type": "execute_result"
    }
   ],
   "source": [
    "# As expected, it's best shot is the average value with virtually no variance.\n",
    "# This is expected.\n",
    "\n",
    "predictions[0:25]"
   ]
  },
  {
   "cell_type": "code",
   "execution_count": 7,
   "metadata": {},
   "outputs": [],
   "source": [
    "# Reshape the data for Keras' LSTM (RNN) syntax.\n",
    "# It needs [features, time steps, labels] and separately [labels].\n",
    "\n",
    "data = data.reshape(data.shape[0], 1, data.shape[1])\n",
    "labels = labels.reshape(labels.shape[0])"
   ]
  },
  {
   "cell_type": "code",
   "execution_count": 8,
   "metadata": {},
   "outputs": [
    {
     "data": {
      "text/plain": [
       "((1000, 1, 1), (1000,))"
      ]
     },
     "execution_count": 8,
     "metadata": {},
     "output_type": "execute_result"
    }
   ],
   "source": [
    "data.shape, labels.shape"
   ]
  },
  {
   "cell_type": "code",
   "execution_count": 9,
   "metadata": {},
   "outputs": [
    {
     "name": "stdout",
     "output_type": "stream",
     "text": [
      "Epoch 1/10\n",
      "9s - loss: 0.1209 - mean_squared_error: 0.1209\n",
      "Epoch 2/10\n",
      "8s - loss: 0.0917 - mean_squared_error: 0.0917\n",
      "Epoch 3/10\n",
      "8s - loss: 0.0913 - mean_squared_error: 0.0913\n",
      "Epoch 4/10\n",
      "8s - loss: 0.0916 - mean_squared_error: 0.0916\n",
      "Epoch 5/10\n",
      "8s - loss: 0.0914 - mean_squared_error: 0.0914\n",
      "Epoch 6/10\n",
      "8s - loss: 0.0914 - mean_squared_error: 0.0914\n",
      "Epoch 7/10\n",
      "8s - loss: 0.0912 - mean_squared_error: 0.0912\n",
      "Epoch 8/10\n",
      "8s - loss: 0.0915 - mean_squared_error: 0.0915\n",
      "Epoch 9/10\n",
      "8s - loss: 0.0912 - mean_squared_error: 0.0912\n",
      "Epoch 10/10\n",
      "8s - loss: 0.0912 - mean_squared_error: 0.0912\n"
     ]
    },
    {
     "data": {
      "text/plain": [
       "<keras.callbacks.History at 0x11fd27940>"
      ]
     },
     "execution_count": 9,
     "metadata": {},
     "output_type": "execute_result"
    }
   ],
   "source": [
    "# create and fit a LSTM network\n",
    "\n",
    "model = Sequential()\n",
    "model.add(LSTM(4, input_shape=(1, 1)))\n",
    "model.add(Dense(1))\n",
    "model.compile(optimizer='adam', loss='mse', metrics=['mse'])\n",
    "model.fit(data, labels, epochs=10, batch_size=1, verbose=2)"
   ]
  },
  {
   "cell_type": "code",
   "execution_count": 10,
   "metadata": {},
   "outputs": [],
   "source": [
    "data_test = np.random.random((1000,1))\n",
    "data_test = data.reshape(data_test.shape[0], 1, data_test.shape[1])\n",
    "predictions = model.predict(data_test)"
   ]
  },
  {
   "cell_type": "code",
   "execution_count": 11,
   "metadata": {},
   "outputs": [
    {
     "name": "stdout",
     "output_type": "stream",
     "text": [
      "0.49703925877 0.52293\n",
      "0.0906545783369 4.64941e-06\n"
     ]
    },
    {
     "data": {
      "text/plain": [
       "0.091329548253980583"
      ]
     },
     "execution_count": 11,
     "metadata": {},
     "output_type": "execute_result"
    }
   ],
   "source": [
    "# Look at means, variances, and MSE\n",
    "\n",
    "print(labels.mean(), predictions.mean())\n",
    "print(labels.var(), predictions.var())\n",
    "((labels - predictions)**2).mean()"
   ]
  },
  {
   "cell_type": "code",
   "execution_count": 12,
   "metadata": {},
   "outputs": [
    {
     "data": {
      "text/plain": [
       "array([[ 0.52531493],\n",
       "       [ 0.52475309],\n",
       "       [ 0.51987118],\n",
       "       [ 0.52407241],\n",
       "       [ 0.52508724],\n",
       "       [ 0.52428484],\n",
       "       [ 0.51936102],\n",
       "       [ 0.52129602],\n",
       "       [ 0.52173966],\n",
       "       [ 0.52682853],\n",
       "       [ 0.52317595],\n",
       "       [ 0.52283067],\n",
       "       [ 0.52443498],\n",
       "       [ 0.5233531 ],\n",
       "       [ 0.52378839],\n",
       "       [ 0.52239102],\n",
       "       [ 0.52253824],\n",
       "       [ 0.52703917],\n",
       "       [ 0.51977581],\n",
       "       [ 0.52093112],\n",
       "       [ 0.52338672],\n",
       "       [ 0.5222677 ],\n",
       "       [ 0.52382612],\n",
       "       [ 0.51972604],\n",
       "       [ 0.52243793]], dtype=float32)"
      ]
     },
     "execution_count": 12,
     "metadata": {},
     "output_type": "execute_result"
    }
   ],
   "source": [
    "# As expected, it's best shot is the average value with virtually no variance.\n",
    "# This is expected.\n",
    "\n",
    "predictions[0:25]"
   ]
  }
 ],
 "metadata": {
  "kernelspec": {
   "display_name": "Python [conda root]",
   "language": "python",
   "name": "conda-root-py"
  },
  "language_info": {
   "codemirror_mode": {
    "name": "ipython",
    "version": 3
   },
   "file_extension": ".py",
   "mimetype": "text/x-python",
   "name": "python",
   "nbconvert_exporter": "python",
   "pygments_lexer": "ipython3",
   "version": "3.5.2"
  }
 },
 "nbformat": 4,
 "nbformat_minor": 2
}
